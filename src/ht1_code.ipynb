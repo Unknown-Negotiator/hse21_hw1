{
 "cells": [
  {
   "cell_type": "code",
   "execution_count": 123,
   "id": "a763c33a",
   "metadata": {},
   "outputs": [],
   "source": [
    "#pip install fastaparser\n",
    "import fastaparser"
   ]
  },
  {
   "cell_type": "markdown",
   "id": "8275388d",
   "metadata": {},
   "source": [
    "Часть 1: Анализ полученных контигов и скаффолдов"
   ]
  },
  {
   "cell_type": "code",
   "execution_count": 124,
   "id": "bbc7acb2",
   "metadata": {},
   "outputs": [],
   "source": [
    "def get_contig_sizes(fasta_file_path):\n",
    "    fasta_file = fasta_file_path\n",
    "    contig_sizes = []\n",
    "    with open(fasta_file) as fh:\n",
    "        parser = fastaparser.Reader(fh, parse_method='quick')\n",
    "        for seq in parser:\n",
    "            contig_sizes += [int(seq.header.split('_')[1][3:])]\n",
    "    return contig_sizes"
   ]
  },
  {
   "cell_type": "code",
   "execution_count": 125,
   "id": "8b97e888",
   "metadata": {},
   "outputs": [],
   "source": [
    "def count_basic_assemble_statistics(contig_sizes):\n",
    "    contig_sizes.sort(reverse = True)\n",
    "    print('Общее кол-во контигов (скаффолдов):', str(len(contig_sizes)))\n",
    "    print('Общая длина контигов (скаффолдов):', str(sum(contig_sizes)))\n",
    "    print('Длина самого длинного контига (скаффолда):', str(contig_sizes[0]))\n",
    "    half_len = sum(contig_sizes) // 2\n",
    "    cumm_len = 0\n",
    "    for size in contig_sizes:\n",
    "        cumm_len += size\n",
    "        if(cumm_len >= half_len):\n",
    "            print('N50:', str(size))\n",
    "            break"
   ]
  },
  {
   "cell_type": "markdown",
   "id": "f45f7d70",
   "metadata": {},
   "source": [
    "Анализ полученных контигов"
   ]
  },
  {
   "cell_type": "code",
   "execution_count": 126,
   "id": "82b96a66",
   "metadata": {},
   "outputs": [
    {
     "name": "stdout",
     "output_type": "stream",
     "text": [
      "Общее кол-во контигов (скаффолдов): 603\n",
      "Общая длина контигов (скаффолдов): 3925361\n",
      "Длина самого длинного контига (скаффолда): 179304\n",
      "N50: 53989\n"
     ]
    }
   ],
   "source": [
    "count_basic_assemble_statistics(get_contig_sizes('/home/doctor/minor/HT1/Poil_contig.fa'))"
   ]
  },
  {
   "cell_type": "markdown",
   "id": "bb5077ba",
   "metadata": {},
   "source": [
    "Анализ полученных скаффолдов"
   ]
  },
  {
   "cell_type": "code",
   "execution_count": 127,
   "id": "e43c4d22",
   "metadata": {},
   "outputs": [
    {
     "name": "stdout",
     "output_type": "stream",
     "text": [
      "Общее кол-во контигов (скаффолдов): 73\n",
      "Общая длина контигов (скаффолдов): 3874648\n",
      "Длина самого длинного контига (скаффолда): 3836186\n",
      "N50: 3836186\n"
     ]
    }
   ],
   "source": [
    "count_basic_assemble_statistics(get_contig_sizes('/home/doctor/minor/HT1/Poil_scaffold.fa'))"
   ]
  },
  {
   "cell_type": "markdown",
   "id": "18b31609",
   "metadata": {},
   "source": [
    "Часть 2: Подсчёт гэпов"
   ]
  },
  {
   "cell_type": "code",
   "execution_count": 128,
   "id": "12ad2493",
   "metadata": {},
   "outputs": [],
   "source": [
    "def get_longest_scaffold(fasta_file_path):\n",
    "    with open(fasta_file_path) as fh:\n",
    "        parser = fastaparser.Reader(fh, parse_method='quick')\n",
    "        longest_seq = ''\n",
    "        biggest_len = 0\n",
    "        for item in parser:\n",
    "            seq_len = len(item.sequence)\n",
    "            if(seq_len > biggest_len):\n",
    "                biggest_len  = seq_len\n",
    "                longest_seq = item.sequence\n",
    "        return longest_seq"
   ]
  },
  {
   "cell_type": "code",
   "execution_count": 129,
   "id": "671d6002",
   "metadata": {},
   "outputs": [],
   "source": [
    "def count_gaps(sequence):\n",
    "    sequence = ' ' + sequence + ' '\n",
    "    List = sequence.split('N')\n",
    "    print('Суммарная длина гэпов (количество N):', int(len(List) - 1))\n",
    "    while '' in List:\n",
    "        List.remove('')\n",
    "    print('Количество гэпов:', int(len(List) - 1))"
   ]
  },
  {
   "cell_type": "markdown",
   "id": "74f96131",
   "metadata": {},
   "source": [
    "Подсчёт гэпов до убирания гэпов"
   ]
  },
  {
   "cell_type": "code",
   "execution_count": 130,
   "id": "ca2450a3",
   "metadata": {},
   "outputs": [
    {
     "name": "stdout",
     "output_type": "stream",
     "text": [
      "Суммарная длина гэпов (количество N): 7336\n",
      "Количество гэпов: 61\n"
     ]
    }
   ],
   "source": [
    "count_gaps(get_longest_scaffold('/home/doctor/minor/HT1/Poil_scaffold.fa'))"
   ]
  },
  {
   "cell_type": "markdown",
   "id": "b668a156",
   "metadata": {},
   "source": [
    "Подсчёт гэпов после убирания гэпов"
   ]
  },
  {
   "cell_type": "code",
   "execution_count": 131,
   "id": "c08d63c0",
   "metadata": {},
   "outputs": [
    {
     "name": "stdout",
     "output_type": "stream",
     "text": [
      "Суммарная длина гэпов (количество N): 2851\n",
      "Количество гэпов: 11\n"
     ]
    }
   ],
   "source": [
    "count_gaps(get_longest_scaffold('/home/doctor/minor/HT1/Poil_gapClosed.fa'))"
   ]
  }
 ],
 "metadata": {
  "kernelspec": {
   "display_name": "Python 3",
   "language": "python",
   "name": "python3"
  },
  "language_info": {
   "codemirror_mode": {
    "name": "ipython",
    "version": 3
   },
   "file_extension": ".py",
   "mimetype": "text/x-python",
   "name": "python",
   "nbconvert_exporter": "python",
   "pygments_lexer": "ipython3",
   "version": "3.8.8"
  }
 },
 "nbformat": 4,
 "nbformat_minor": 5
}
